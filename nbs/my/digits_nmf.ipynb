{
 "cells": [
  {
   "cell_type": "code",
   "execution_count": 223,
   "metadata": {},
   "outputs": [],
   "source": [
    "import pandas as pd\n",
    "import numpy as np\n",
    "import sklearn\n",
    "import sklearn.datasets\n",
    "from sklearn.model_selection import KFold, cross_val_score\n",
    "from sklearn.metrics import f1_score\n",
    "import matplotlib.pyplot as plt\n",
    "from sklearn.ensemble import RandomForestClassifier\n",
    "from sklearn.tree import DecisionTreeClassifier"
   ]
  },
  {
   "cell_type": "code",
   "execution_count": 10,
   "metadata": {},
   "outputs": [],
   "source": [
    "X, y = sklearn.datasets.load_digits(return_X_y=True)"
   ]
  },
  {
   "cell_type": "code",
   "execution_count": 12,
   "metadata": {},
   "outputs": [],
   "source": [
    "dt = DecisionTreeClassifier(random_state=42, criterion='entropy', max_depth=5)\n",
    "rf = RandomForestClassifier(n_estimators=20, random_state=42)"
   ]
  },
  {
   "cell_type": "code",
   "execution_count": 15,
   "metadata": {},
   "outputs": [],
   "source": [
    "cv = KFold(n_splits=5, shuffle=True, random_state=42)"
   ]
  },
  {
   "cell_type": "code",
   "execution_count": 19,
   "metadata": {},
   "outputs": [
    {
     "name": "stderr",
     "output_type": "stream",
     "text": [
      "[Parallel(n_jobs=-1)]: Using backend LokyBackend with 4 concurrent workers.\n",
      "[Parallel(n_jobs=-1)]: Done   5 out of   5 | elapsed:    7.5s finished\n"
     ]
    }
   ],
   "source": [
    "scores = cross_val_score(dt, X, y, cv=cv, n_jobs=-1, verbose=1, scoring='accuracy')"
   ]
  },
  {
   "cell_type": "code",
   "execution_count": 21,
   "metadata": {},
   "outputs": [
    {
     "data": {
      "text/plain": [
       "(0.7707149489322191, 0.03374332121073383)"
      ]
     },
     "execution_count": 21,
     "metadata": {},
     "output_type": "execute_result"
    }
   ],
   "source": [
    "scores.mean(), scores.std()"
   ]
  },
  {
   "cell_type": "code",
   "execution_count": 224,
   "metadata": {},
   "outputs": [],
   "source": [
    "X_norm = X / 16"
   ]
  },
  {
   "cell_type": "code",
   "execution_count": 587,
   "metadata": {},
   "outputs": [],
   "source": [
    "n_comp = 16\n",
    "seed = 42\n",
    "# A = W @ H\n",
    "# A.shape = m x n\n",
    "# W.shape = m x n_comp\n",
    "# H.shape = n_comp x n\n",
    "n, m = X.shape\n",
    "np.random.seed(seed)\n",
    "W = np.abs(np.random.normal(size=(n, n_comp))) * 0.01\n",
    "H = np.abs(np.random.normal(size=(n_comp, m))) * 0.01"
   ]
  },
  {
   "cell_type": "code",
   "execution_count": 588,
   "metadata": {},
   "outputs": [],
   "source": [
    "assert X.shape == (W @ H).shape"
   ]
  },
  {
   "cell_type": "code",
   "execution_count": 589,
   "metadata": {},
   "outputs": [],
   "source": [
    "lr = .001  # learning rate\n",
    "lmd = 1000 # penalty for negative terms"
   ]
  },
  {
   "cell_type": "code",
   "execution_count": 590,
   "metadata": {},
   "outputs": [],
   "source": [
    "mu = 1e-6\n",
    "\n",
    "def penalty(M):\n",
    "    return np.where(M >= 0, 0,  np.min(M - mu, 0))\n",
    "\n",
    "def penalty_grad(M):\n",
    "    return np.where(M >= 0, 0, np.min(M - mu, 0))"
   ]
  },
  {
   "cell_type": "code",
   "execution_count": 591,
   "metadata": {},
   "outputs": [],
   "source": [
    "def grads(A, W, H):\n",
    "    WH = W @ H\n",
    "    R = WH - A  # Residual\n",
    "    dW = R @ H.T\n",
    "    dH = W.T @ R\n",
    "    return dW, dH"
   ]
  },
  {
   "cell_type": "code",
   "execution_count": 592,
   "metadata": {},
   "outputs": [],
   "source": [
    "def error(A, W, H):\n",
    "    s = np.linalg.norm(A - W @ H) + penalty(W).sum() + penalty(H).sum()\n",
    "    W_neg = (W < 0).sum()\n",
    "    H_neg = (H < 0).sum()\n",
    "    return s, W_neg, H_neg"
   ]
  },
  {
   "cell_type": "code",
   "execution_count": 593,
   "metadata": {},
   "outputs": [
    {
     "data": {
      "text/plain": [
       "(164.0412754451145, 0, 0)"
      ]
     },
     "execution_count": 593,
     "metadata": {},
     "output_type": "execute_result"
    }
   ],
   "source": [
    "error(X_norm, W, H)"
   ]
  },
  {
   "cell_type": "code",
   "execution_count": 594,
   "metadata": {},
   "outputs": [],
   "source": [
    "def update(A, W, H):\n",
    "    dW, dH = grads(A, W, H)\n",
    "    dW_pen = penalty_grad(W) * lmd\n",
    "    dH_pen = penalty_grad(H) * lmd\n",
    "    return W - lr * (dW + dW_pen), H - lr * (dH + dH_pen)"
   ]
  },
  {
   "cell_type": "code",
   "execution_count": 595,
   "metadata": {},
   "outputs": [
    {
     "data": {
      "text/plain": [
       "(163.82730062852897, 0, 0)"
      ]
     },
     "execution_count": 595,
     "metadata": {},
     "output_type": "execute_result"
    }
   ],
   "source": [
    "W_new, H_new = update(X_norm, W, H)\n",
    "error(X_norm, W_new, H_new)"
   ]
  },
  {
   "cell_type": "code",
   "execution_count": 596,
   "metadata": {},
   "outputs": [
    {
     "name": "stdout",
     "output_type": "stream",
     "text": [
      "(164.0412754451145, 0, 0)\n",
      "(35.62903738443076, 3000, 356)\n",
      "(35.11982570195434, 2637, 377)\n",
      "(35.1179388202772, 2463, 387)\n",
      "(35.23981955707871, 2476, 376)\n",
      "(34.98103842246284, 2441, 381)\n",
      "(34.950454872456234, 2360, 382)\n",
      "(35.00839536410102, 2351, 381)\n",
      "(35.085171270353534, 2363, 381)\n",
      "(34.70639354168823, 2419, 404)\n"
     ]
    }
   ],
   "source": [
    "for i in range(10000):\n",
    "    if i % 1000 == 0:\n",
    "        print(error(X_norm, W, H))\n",
    "    W, H = update(X_norm, W, H)"
   ]
  },
  {
   "cell_type": "code",
   "execution_count": 597,
   "metadata": {},
   "outputs": [
    {
     "data": {
      "text/plain": [
       "(42.65152119237285, 0, 0)"
      ]
     },
     "execution_count": 597,
     "metadata": {},
     "output_type": "execute_result"
    }
   ],
   "source": [
    "W_pos = np.where(W >= 0, W, -W)\n",
    "H_pos = np.where(H >= 0, H, -H)\n",
    "error(X_norm, W_pos, H_pos)"
   ]
  },
  {
   "cell_type": "code",
   "execution_count": 598,
   "metadata": {},
   "outputs": [
    {
     "data": {
      "text/plain": [
       "682.4243390779656"
      ]
     },
     "execution_count": 598,
     "metadata": {},
     "output_type": "execute_result"
    }
   ],
   "source": [
    "np.linalg.norm(X - (W_pos @ H_pos)*16)"
   ]
  },
  {
   "cell_type": "code",
   "execution_count": 599,
   "metadata": {},
   "outputs": [
    {
     "name": "stderr",
     "output_type": "stream",
     "text": [
      "[Parallel(n_jobs=-1)]: Using backend LokyBackend with 4 concurrent workers.\n",
      "[Parallel(n_jobs=-1)]: Done   5 out of   5 | elapsed:    1.7s finished\n"
     ]
    },
    {
     "data": {
      "text/plain": [
       "(0.7757505416279791, 0.021688106807947905)"
      ]
     },
     "execution_count": 599,
     "metadata": {},
     "output_type": "execute_result"
    }
   ],
   "source": [
    "scores = cross_val_score(dt, W_pos, y, cv=cv, n_jobs=-1, verbose=1, scoring='accuracy')\n",
    "scores.mean(), scores.std()"
   ]
  },
  {
   "cell_type": "code",
   "execution_count": 600,
   "metadata": {},
   "outputs": [],
   "source": [
    "X_restored = (W_pos @ H_pos) * 16"
   ]
  },
  {
   "cell_type": "code",
   "execution_count": 608,
   "metadata": {},
   "outputs": [],
   "source": [
    "def plot(im1, im2):\n",
    "    f, ax = plt.subplots(ncols=2)\n",
    "    ax[0].imshow(im1.reshape((8, 8)))\n",
    "    ax[1].imshow(im2.reshape((8, 8)));   "
   ]
  },
  {
   "cell_type": "code",
   "execution_count": 612,
   "metadata": {},
   "outputs": [
    {
     "data": {
      "image/png": "[encoded data removed]",
      "text/plain": [
       "<Figure size 432x288 with 2 Axes>"
      ]
     },
     "metadata": {
      "needs_background": "light"
     },
     "output_type": "display_data"
    },
    {
     "data": {
      "image/png": "[encoded data removed]",
      "text/plain": [
       "<Figure size 432x288 with 2 Axes>"
      ]
     },
     "metadata": {
      "needs_background": "light"
     },
     "output_type": "display_data"
    },
    {
     "data": {
      "image/png": "[encoded data removed]",
      "text/plain": [
       "<Figure size 432x288 with 2 Axes>"
      ]
     },
     "metadata": {
      "needs_background": "light"
     },
     "output_type": "display_data"
    },
    {
     "data": {
      "image/png": "[encoded data removed]",
      "text/plain": [
       "<Figure size 432x288 with 2 Axes>"
      ]
     },
     "metadata": {
      "needs_background": "light"
     },
     "output_type": "display_data"
    }
   ],
   "source": [
    "for i in [1000, 1001, -1, 1500]:\n",
    "    plot(X[i], X_restored[i])\n",
    "    plt.show()"
   ]
  },
  {
   "cell_type": "code",
   "execution_count": 615,
   "metadata": {},
   "outputs": [
    {
     "data": {
      "text/plain": [
       "((1797, 64), (1797, 16), (16, 64))"
      ]
     },
     "execution_count": 615,
     "metadata": {},
     "output_type": "execute_result"
    }
   ],
   "source": [
    "# W - X projected onto subspace H\n",
    "# H - subspace of columns of X\n",
    "X.shape, W.shape, H.shape"
   ]
  }
 ],
 "metadata": {
  "kernelspec": {
   "display_name": "Python 3",
   "language": "python",
   "name": "python3"
  },
  "language_info": {
   "codemirror_mode": {
    "name": "ipython",
    "version": 3
   },
   "file_extension": ".py",
   "mimetype": "text/x-python",
   "name": "python",
   "nbconvert_exporter": "python",
   "pygments_lexer": "ipython3",
   "version": "3.6.8"
  }
 },
 "nbformat": 4,
 "nbformat_minor": 4
}
